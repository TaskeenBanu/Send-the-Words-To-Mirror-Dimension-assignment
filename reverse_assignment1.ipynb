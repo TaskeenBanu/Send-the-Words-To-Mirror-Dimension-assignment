{
 "cells": [
  {
   "cell_type": "code",
   "execution_count": 11,
   "id": "3570c2ad",
   "metadata": {},
   "outputs": [
    {
     "name": "stdout",
     "output_type": "stream",
     "text": [
      "the original string is :  edyoda\n",
      "the reversed string(using reversed) is :  a d o y d e\n"
     ]
    }
   ],
   "source": [
    "def reverse(string):\n",
    "    string = [string[i] for i in range(len(string)-1, -1, -1)]\n",
    "    return \" \".join(string)\n",
    "s = \"edyoda\"\n",
    "print(\"the original string is : \", s)\n",
    "print(\"the reversed string(using reversed) is : \",reverse(s))\n"
   ]
  },
  {
   "cell_type": "code",
   "execution_count": null,
   "id": "0a4c9864",
   "metadata": {},
   "outputs": [],
   "source": []
  },
  {
   "cell_type": "code",
   "execution_count": null,
   "id": "b6fbf73f",
   "metadata": {},
   "outputs": [],
   "source": []
  }
 ],
 "metadata": {
  "kernelspec": {
   "display_name": "Python 3 (ipykernel)",
   "language": "python",
   "name": "python3"
  },
  "language_info": {
   "codemirror_mode": {
    "name": "ipython",
    "version": 3
   },
   "file_extension": ".py",
   "mimetype": "text/x-python",
   "name": "python",
   "nbconvert_exporter": "python",
   "pygments_lexer": "ipython3",
   "version": "3.9.12"
  }
 },
 "nbformat": 4,
 "nbformat_minor": 5
}
